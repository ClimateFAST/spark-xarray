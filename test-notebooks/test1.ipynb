{
 "cells": [
  {
   "cell_type": "code",
   "execution_count": 24,
   "metadata": {
    "collapsed": true
   },
   "outputs": [],
   "source": [
    "import xarray as xr\n",
    "import pandas as pd\n",
    "import numpy as np\n",
    "from pyspark.sql import SparkSession"
   ]
  },
  {
   "cell_type": "code",
   "execution_count": 25,
   "metadata": {
    "collapsed": true
   },
   "outputs": [],
   "source": [
    "spark = SparkSession.builder.appName('spark-xarray').getOrCreate()"
   ]
  },
  {
   "cell_type": "code",
   "execution_count": 26,
   "metadata": {
    "collapsed": true
   },
   "outputs": [],
   "source": [
    "sc = spark.sparkContext"
   ]
  },
  {
   "cell_type": "code",
   "execution_count": 2,
   "metadata": {
    "collapsed": true
   },
   "outputs": [],
   "source": [
    "dset = xr.open_dataset('../sample-data/air.sig995.2012.nc')"
   ]
  },
  {
   "cell_type": "code",
   "execution_count": 3,
   "metadata": {},
   "outputs": [
    {
     "data": {
      "text/plain": [
       "<xarray.Dataset>\n",
       "Dimensions:  (lat: 73, lon: 144, time: 366)\n",
       "Coordinates:\n",
       "  * lat      (lat) float32 90.0 87.5 85.0 82.5 80.0 77.5 75.0 72.5 70.0 67.5 ...\n",
       "  * lon      (lon) float32 0.0 2.5 5.0 7.5 10.0 12.5 15.0 17.5 20.0 22.5 ...\n",
       "  * time     (time) datetime64[ns] 2012-01-01 2012-01-02 2012-01-03 ...\n",
       "Data variables:\n",
       "    air      (time, lat, lon) float64 234.5 234.5 234.5 234.5 234.5 234.5 ...\n",
       "Attributes:\n",
       "    Conventions:  COARDS\n",
       "    title:        mean daily NMC reanalysis (2012)\n",
       "    history:      created 2011/12 by Hoop (netCDF2.3)\n",
       "    description:  Data is from NMC initialized reanalysis\\n(4x/day).  These a...\n",
       "    platform:     Model\n",
       "    references:   http://www.esrl.noaa.gov/psd/data/gridded/data.ncep.reanaly..."
      ]
     },
     "execution_count": 3,
     "metadata": {},
     "output_type": "execute_result"
    }
   ],
   "source": [
    "dset"
   ]
  },
  {
   "cell_type": "code",
   "execution_count": 5,
   "metadata": {},
   "outputs": [],
   "source": [
    "time1 = dset.sel('time')"
   ]
  },
  {
   "cell_type": "code",
   "execution_count": 6,
   "metadata": {},
   "outputs": [
    {
     "data": {
      "text/plain": [
       "<xarray.Dataset>\n",
       "Dimensions:  (lat: 73, lon: 144, time: 366)\n",
       "Coordinates:\n",
       "  * lat      (lat) float32 90.0 87.5 85.0 82.5 80.0 77.5 75.0 72.5 70.0 67.5 ...\n",
       "  * lon      (lon) float32 0.0 2.5 5.0 7.5 10.0 12.5 15.0 17.5 20.0 22.5 ...\n",
       "  * time     (time) datetime64[ns] 2012-01-01 2012-01-02 2012-01-03 ...\n",
       "Data variables:\n",
       "    air      (time, lat, lon) float64 234.5 234.5 234.5 234.5 234.5 234.5 ...\n",
       "Attributes:\n",
       "    Conventions:  COARDS\n",
       "    title:        mean daily NMC reanalysis (2012)\n",
       "    history:      created 2011/12 by Hoop (netCDF2.3)\n",
       "    description:  Data is from NMC initialized reanalysis\\n(4x/day).  These a...\n",
       "    platform:     Model\n",
       "    references:   http://www.esrl.noaa.gov/psd/data/gridded/data.ncep.reanaly..."
      ]
     },
     "execution_count": 6,
     "metadata": {},
     "output_type": "execute_result"
    }
   ],
   "source": [
    "time1"
   ]
  },
  {
   "cell_type": "code",
   "execution_count": 7,
   "metadata": {
    "collapsed": true
   },
   "outputs": [],
   "source": [
    "a = [time1]"
   ]
  },
  {
   "cell_type": "code",
   "execution_count": 8,
   "metadata": {},
   "outputs": [
    {
     "data": {
      "text/plain": [
       "[<xarray.Dataset>\n",
       " Dimensions:  (lat: 73, lon: 144, time: 366)\n",
       " Coordinates:\n",
       "   * lat      (lat) float32 90.0 87.5 85.0 82.5 80.0 77.5 75.0 72.5 70.0 67.5 ...\n",
       "   * lon      (lon) float32 0.0 2.5 5.0 7.5 10.0 12.5 15.0 17.5 20.0 22.5 ...\n",
       "   * time     (time) datetime64[ns] 2012-01-01 2012-01-02 2012-01-03 ...\n",
       " Data variables:\n",
       "     air      (time, lat, lon) float64 234.5 234.5 234.5 234.5 234.5 234.5 ...\n",
       " Attributes:\n",
       "     Conventions:  COARDS\n",
       "     title:        mean daily NMC reanalysis (2012)\n",
       "     history:      created 2011/12 by Hoop (netCDF2.3)\n",
       "     description:  Data is from NMC initialized reanalysis\\n(4x/day).  These a...\n",
       "     platform:     Model\n",
       "     references:   http://www.esrl.noaa.gov/psd/data/gridded/data.ncep.reanaly...]"
      ]
     },
     "execution_count": 8,
     "metadata": {},
     "output_type": "execute_result"
    }
   ],
   "source": [
    "a"
   ]
  },
  {
   "cell_type": "markdown",
   "metadata": {},
   "source": [
    "# Get Times"
   ]
  },
  {
   "cell_type": "code",
   "execution_count": 10,
   "metadata": {},
   "outputs": [],
   "source": [
    "times = dset.time"
   ]
  },
  {
   "cell_type": "code",
   "execution_count": 11,
   "metadata": {},
   "outputs": [
    {
     "data": {
      "text/plain": [
       "<xarray.DataArray 'time' (time: 366)>\n",
       "array(['2012-01-01T00:00:00.000000000', '2012-01-02T00:00:00.000000000',\n",
       "       '2012-01-03T00:00:00.000000000', ..., '2012-12-29T00:00:00.000000000',\n",
       "       '2012-12-30T00:00:00.000000000', '2012-12-31T00:00:00.000000000'], dtype='datetime64[ns]')\n",
       "Coordinates:\n",
       "  * time     (time) datetime64[ns] 2012-01-01 2012-01-02 2012-01-03 ...\n",
       "Attributes:\n",
       "    long_name:      Time\n",
       "    actual_range:   [ 17628096.  17636856.]\n",
       "    delta_t:        0000-00-01 00:00:00\n",
       "    standard_name:  time\n",
       "    axis:           T\n",
       "    avg_period:     0000-00-01 00:00:00"
      ]
     },
     "execution_count": 11,
     "metadata": {},
     "output_type": "execute_result"
    }
   ],
   "source": [
    "times"
   ]
  },
  {
   "cell_type": "code",
   "execution_count": 13,
   "metadata": {},
   "outputs": [
    {
     "data": {
      "text/plain": [
       "numpy.datetime64('2012-01-01T00:00:00.000000000')"
      ]
     },
     "execution_count": 13,
     "metadata": {},
     "output_type": "execute_result"
    }
   ],
   "source": [
    "times.values[0]"
   ]
  },
  {
   "cell_type": "code",
   "execution_count": 14,
   "metadata": {},
   "outputs": [
    {
     "data": {
      "text/plain": [
       "<xarray.Dataset>\n",
       "Dimensions:  (lat: 73, lon: 144)\n",
       "Coordinates:\n",
       "  * lat      (lat) float32 90.0 87.5 85.0 82.5 80.0 77.5 75.0 72.5 70.0 67.5 ...\n",
       "  * lon      (lon) float32 0.0 2.5 5.0 7.5 10.0 12.5 15.0 17.5 20.0 22.5 ...\n",
       "    time     datetime64[ns] 2012-01-01\n",
       "Data variables:\n",
       "    air      (lat, lon) float64 234.5 234.5 234.5 234.5 234.5 234.5 234.5 ...\n",
       "Attributes:\n",
       "    Conventions:  COARDS\n",
       "    title:        mean daily NMC reanalysis (2012)\n",
       "    history:      created 2011/12 by Hoop (netCDF2.3)\n",
       "    description:  Data is from NMC initialized reanalysis\\n(4x/day).  These a...\n",
       "    platform:     Model\n",
       "    references:   http://www.esrl.noaa.gov/psd/data/gridded/data.ncep.reanaly..."
      ]
     },
     "execution_count": 14,
     "metadata": {},
     "output_type": "execute_result"
    }
   ],
   "source": [
    "dset.sel(time=times.values[0])"
   ]
  },
  {
   "cell_type": "code",
   "execution_count": 19,
   "metadata": {
    "collapsed": true
   },
   "outputs": [],
   "source": [
    "rows = times.values"
   ]
  },
  {
   "cell_type": "code",
   "execution_count": 21,
   "metadata": {},
   "outputs": [
    {
     "data": {
      "text/plain": [
       "366"
      ]
     },
     "execution_count": 21,
     "metadata": {},
     "output_type": "execute_result"
    }
   ],
   "source": [
    "rows.size"
   ]
  },
  {
   "cell_type": "code",
   "execution_count": 16,
   "metadata": {
    "collapsed": true
   },
   "outputs": [],
   "source": [
    "partitions = 20"
   ]
  },
  {
   "cell_type": "code",
   "execution_count": 22,
   "metadata": {
    "collapsed": true
   },
   "outputs": [],
   "source": [
    "step = rows.size / partitions"
   ]
  },
  {
   "cell_type": "code",
   "execution_count": 23,
   "metadata": {},
   "outputs": [
    {
     "data": {
      "text/plain": [
       "18"
      ]
     },
     "execution_count": 23,
     "metadata": {},
     "output_type": "execute_result"
    }
   ],
   "source": [
    "step"
   ]
  },
  {
   "cell_type": "code",
   "execution_count": 27,
   "metadata": {
    "collapsed": true
   },
   "outputs": [],
   "source": [
    "a = sc.range(0, 10, 2)"
   ]
  },
  {
   "cell_type": "code",
   "execution_count": 28,
   "metadata": {},
   "outputs": [
    {
     "data": {
      "text/plain": [
       "[0, 2, 4, 6, 8]"
      ]
     },
     "execution_count": 28,
     "metadata": {},
     "output_type": "execute_result"
    }
   ],
   "source": [
    "a.collect()"
   ]
  },
  {
   "cell_type": "code",
   "execution_count": 29,
   "metadata": {},
   "outputs": [
    {
     "data": {
      "text/plain": [
       "18"
      ]
     },
     "execution_count": 29,
     "metadata": {},
     "output_type": "execute_result"
    }
   ],
   "source": [
    "step"
   ]
  },
  {
   "cell_type": "code",
   "execution_count": 30,
   "metadata": {},
   "outputs": [
    {
     "data": {
      "text/plain": [
       "366"
      ]
     },
     "execution_count": 30,
     "metadata": {},
     "output_type": "execute_result"
    }
   ],
   "source": [
    "rows.size"
   ]
  },
  {
   "cell_type": "code",
   "execution_count": 31,
   "metadata": {
    "collapsed": true
   },
   "outputs": [],
   "source": [
    "rdd = sc.range(0, rows.size, step)"
   ]
  },
  {
   "cell_type": "code",
   "execution_count": 32,
   "metadata": {
    "collapsed": true
   },
   "outputs": [],
   "source": [
    "rdd = rdd.sortBy(lambda x: x, numPartitions=partitions)"
   ]
  },
  {
   "cell_type": "code",
   "execution_count": 33,
   "metadata": {},
   "outputs": [
    {
     "data": {
      "text/plain": [
       "21"
      ]
     },
     "execution_count": 33,
     "metadata": {},
     "output_type": "execute_result"
    }
   ],
   "source": [
    "rdd.count()"
   ]
  },
  {
   "cell_type": "code",
   "execution_count": 34,
   "metadata": {},
   "outputs": [
    {
     "data": {
      "text/plain": [
       "[0,\n",
       " 18,\n",
       " 36,\n",
       " 54,\n",
       " 72,\n",
       " 90,\n",
       " 108,\n",
       " 126,\n",
       " 144,\n",
       " 162,\n",
       " 180,\n",
       " 198,\n",
       " 216,\n",
       " 234,\n",
       " 252,\n",
       " 270,\n",
       " 288,\n",
       " 306,\n",
       " 324,\n",
       " 342,\n",
       " 360]"
      ]
     },
     "execution_count": 34,
     "metadata": {},
     "output_type": "execute_result"
    }
   ],
   "source": [
    "rdd.collect()"
   ]
  },
  {
   "cell_type": "code",
   "execution_count": 35,
   "metadata": {},
   "outputs": [
    {
     "data": {
      "text/plain": [
       "<xarray.DataArray 'time' (time: 366)>\n",
       "array(['2012-01-01T00:00:00.000000000', '2012-01-02T00:00:00.000000000',\n",
       "       '2012-01-03T00:00:00.000000000', ..., '2012-12-29T00:00:00.000000000',\n",
       "       '2012-12-30T00:00:00.000000000', '2012-12-31T00:00:00.000000000'], dtype='datetime64[ns]')\n",
       "Coordinates:\n",
       "  * time     (time) datetime64[ns] 2012-01-01 2012-01-02 2012-01-03 ...\n",
       "Attributes:\n",
       "    long_name:      Time\n",
       "    actual_range:   [ 17628096.  17636856.]\n",
       "    delta_t:        0000-00-01 00:00:00\n",
       "    standard_name:  time\n",
       "    axis:           T\n",
       "    avg_period:     0000-00-01 00:00:00"
      ]
     },
     "execution_count": 35,
     "metadata": {},
     "output_type": "execute_result"
    }
   ],
   "source": [
    "times"
   ]
  },
  {
   "cell_type": "code",
   "execution_count": 37,
   "metadata": {},
   "outputs": [
    {
     "data": {
      "text/plain": [
       "366"
      ]
     },
     "execution_count": 37,
     "metadata": {},
     "output_type": "execute_result"
    }
   ],
   "source": [
    "times.values.size"
   ]
  },
  {
   "cell_type": "code",
   "execution_count": 50,
   "metadata": {
    "collapsed": true
   },
   "outputs": [],
   "source": [
    "def readonep(dset, timestep):\n",
    "    chunk = dset.sel(time=timestep)\n",
    "    return chunk"
   ]
  },
  {
   "cell_type": "code",
   "execution_count": 51,
   "metadata": {},
   "outputs": [
    {
     "data": {
      "text/plain": [
       "<xarray.Dataset>\n",
       "Dimensions:  (lat: 73, lon: 144)\n",
       "Coordinates:\n",
       "  * lat      (lat) float32 90.0 87.5 85.0 82.5 80.0 77.5 75.0 72.5 70.0 67.5 ...\n",
       "  * lon      (lon) float32 0.0 2.5 5.0 7.5 10.0 12.5 15.0 17.5 20.0 22.5 ...\n",
       "    time     datetime64[ns] 2012-01-01\n",
       "Data variables:\n",
       "    air      (lat, lon) float64 234.5 234.5 234.5 234.5 234.5 234.5 234.5 ...\n",
       "Attributes:\n",
       "    Conventions:  COARDS\n",
       "    title:        mean daily NMC reanalysis (2012)\n",
       "    history:      created 2011/12 by Hoop (netCDF2.3)\n",
       "    description:  Data is from NMC initialized reanalysis\\n(4x/day).  These a...\n",
       "    platform:     Model\n",
       "    references:   http://www.esrl.noaa.gov/psd/data/gridded/data.ncep.reanaly..."
      ]
     },
     "execution_count": 51,
     "metadata": {},
     "output_type": "execute_result"
    }
   ],
   "source": [
    "readonep(dset, times.values[0])"
   ]
  },
  {
   "cell_type": "code",
   "execution_count": 52,
   "metadata": {
    "collapsed": true
   },
   "outputs": [],
   "source": [
    "rdd = sc.parallelize(times.values)"
   ]
  },
  {
   "cell_type": "code",
   "execution_count": 53,
   "metadata": {},
   "outputs": [
    {
     "data": {
      "text/plain": [
       "366"
      ]
     },
     "execution_count": 53,
     "metadata": {},
     "output_type": "execute_result"
    }
   ],
   "source": [
    "rdd.count()"
   ]
  },
  {
   "cell_type": "code",
   "execution_count": 54,
   "metadata": {},
   "outputs": [
    {
     "data": {
      "text/plain": [
       "numpy.datetime64('2012-01-01T00:00:00.000000000')"
      ]
     },
     "execution_count": 54,
     "metadata": {},
     "output_type": "execute_result"
    }
   ],
   "source": [
    "rdd.first()"
   ]
  },
  {
   "cell_type": "code",
   "execution_count": 55,
   "metadata": {
    "collapsed": true
   },
   "outputs": [],
   "source": [
    "rdd1 = rdd.map(lambda x: readonep(dset, x))"
   ]
  },
  {
   "cell_type": "code",
   "execution_count": 56,
   "metadata": {},
   "outputs": [
    {
     "data": {
      "text/plain": [
       "366"
      ]
     },
     "execution_count": 56,
     "metadata": {},
     "output_type": "execute_result"
    }
   ],
   "source": [
    "rdd1.count()"
   ]
  },
  {
   "cell_type": "code",
   "execution_count": 57,
   "metadata": {},
   "outputs": [
    {
     "data": {
      "text/plain": [
       "<xarray.Dataset>\n",
       "Dimensions:  (lat: 73, lon: 144)\n",
       "Coordinates:\n",
       "  * lat      (lat) float32 90.0 87.5 85.0 82.5 80.0 77.5 75.0 72.5 70.0 67.5 ...\n",
       "  * lon      (lon) float32 0.0 2.5 5.0 7.5 10.0 12.5 15.0 17.5 20.0 22.5 ...\n",
       "    time     datetime64[ns] 2012-01-01\n",
       "Data variables:\n",
       "    air      (lat, lon) float64 234.5 234.5 234.5 234.5 234.5 234.5 234.5 ...\n",
       "Attributes:\n",
       "    Conventions:  COARDS\n",
       "    title:        mean daily NMC reanalysis (2012)\n",
       "    history:      created 2011/12 by Hoop (netCDF2.3)\n",
       "    description:  Data is from NMC initialized reanalysis\\n(4x/day).  These a...\n",
       "    platform:     Model\n",
       "    references:   http://www.esrl.noaa.gov/psd/data/gridded/data.ncep.reanaly..."
      ]
     },
     "execution_count": 57,
     "metadata": {},
     "output_type": "execute_result"
    }
   ],
   "source": [
    "rdd1.first()"
   ]
  },
  {
   "cell_type": "code",
   "execution_count": 58,
   "metadata": {},
   "outputs": [
    {
     "data": {
      "text/plain": [
       "[<xarray.Dataset>\n",
       " Dimensions:  (lat: 73, lon: 144)\n",
       " Coordinates:\n",
       "   * lat      (lat) float32 90.0 87.5 85.0 82.5 80.0 77.5 75.0 72.5 70.0 67.5 ...\n",
       "   * lon      (lon) float32 0.0 2.5 5.0 7.5 10.0 12.5 15.0 17.5 20.0 22.5 ...\n",
       "     time     datetime64[ns] 2012-01-01\n",
       " Data variables:\n",
       "     air      (lat, lon) float64 234.5 234.5 234.5 234.5 234.5 234.5 234.5 ...\n",
       " Attributes:\n",
       "     Conventions:  COARDS\n",
       "     title:        mean daily NMC reanalysis (2012)\n",
       "     history:      created 2011/12 by Hoop (netCDF2.3)\n",
       "     description:  Data is from NMC initialized reanalysis\\n(4x/day).  These a...\n",
       "     platform:     Model\n",
       "     references:   http://www.esrl.noaa.gov/psd/data/gridded/data.ncep.reanaly...,\n",
       " <xarray.Dataset>\n",
       " Dimensions:  (lat: 73, lon: 144)\n",
       " Coordinates:\n",
       "   * lat      (lat) float32 90.0 87.5 85.0 82.5 80.0 77.5 75.0 72.5 70.0 67.5 ...\n",
       "   * lon      (lon) float32 0.0 2.5 5.0 7.5 10.0 12.5 15.0 17.5 20.0 22.5 ...\n",
       "     time     datetime64[ns] 2012-01-02\n",
       " Data variables:\n",
       "     air      (lat, lon) float64 235.3 235.3 235.3 235.3 235.3 235.3 235.3 ...\n",
       " Attributes:\n",
       "     Conventions:  COARDS\n",
       "     title:        mean daily NMC reanalysis (2012)\n",
       "     history:      created 2011/12 by Hoop (netCDF2.3)\n",
       "     description:  Data is from NMC initialized reanalysis\\n(4x/day).  These a...\n",
       "     platform:     Model\n",
       "     references:   http://www.esrl.noaa.gov/psd/data/gridded/data.ncep.reanaly...,\n",
       " <xarray.Dataset>\n",
       " Dimensions:  (lat: 73, lon: 144)\n",
       " Coordinates:\n",
       "   * lat      (lat) float32 90.0 87.5 85.0 82.5 80.0 77.5 75.0 72.5 70.0 67.5 ...\n",
       "   * lon      (lon) float32 0.0 2.5 5.0 7.5 10.0 12.5 15.0 17.5 20.0 22.5 ...\n",
       "     time     datetime64[ns] 2012-01-03\n",
       " Data variables:\n",
       "     air      (lat, lon) float64 238.7 238.7 238.7 238.7 238.7 238.7 238.7 ...\n",
       " Attributes:\n",
       "     Conventions:  COARDS\n",
       "     title:        mean daily NMC reanalysis (2012)\n",
       "     history:      created 2011/12 by Hoop (netCDF2.3)\n",
       "     description:  Data is from NMC initialized reanalysis\\n(4x/day).  These a...\n",
       "     platform:     Model\n",
       "     references:   http://www.esrl.noaa.gov/psd/data/gridded/data.ncep.reanaly...]"
      ]
     },
     "execution_count": 58,
     "metadata": {},
     "output_type": "execute_result"
    }
   ],
   "source": [
    "rdd1.take(3)"
   ]
  },
  {
   "cell_type": "code",
   "execution_count": 59,
   "metadata": {
    "collapsed": true
   },
   "outputs": [],
   "source": [
    "a = rdd1.first()"
   ]
  },
  {
   "cell_type": "code",
   "execution_count": 69,
   "metadata": {},
   "outputs": [],
   "source": [
    "mean = rdd1.map(lambda x: x.mean())"
   ]
  },
  {
   "cell_type": "code",
   "execution_count": 70,
   "metadata": {},
   "outputs": [
    {
     "data": {
      "text/plain": [
       "366"
      ]
     },
     "execution_count": 70,
     "metadata": {},
     "output_type": "execute_result"
    }
   ],
   "source": [
    "mean.count()"
   ]
  },
  {
   "cell_type": "code",
   "execution_count": 73,
   "metadata": {},
   "outputs": [
    {
     "data": {
      "text/plain": [
       "[<xarray.Dataset>\n",
       " Dimensions:  ()\n",
       " Data variables:\n",
       "     air      float64 277.0, <xarray.Dataset>\n",
       " Dimensions:  ()\n",
       " Data variables:\n",
       "     air      float64 276.8, <xarray.Dataset>\n",
       " Dimensions:  ()\n",
       " Data variables:\n",
       "     air      float64 276.9, <xarray.Dataset>\n",
       " Dimensions:  ()\n",
       " Data variables:\n",
       "     air      float64 276.9, <xarray.Dataset>\n",
       " Dimensions:  ()\n",
       " Data variables:\n",
       "     air      float64 277.4, <xarray.Dataset>\n",
       " Dimensions:  ()\n",
       " Data variables:\n",
       "     air      float64 277.6, <xarray.Dataset>\n",
       " Dimensions:  ()\n",
       " Data variables:\n",
       "     air      float64 277.4, <xarray.Dataset>\n",
       " Dimensions:  ()\n",
       " Data variables:\n",
       "     air      float64 277.0, <xarray.Dataset>\n",
       " Dimensions:  ()\n",
       " Data variables:\n",
       "     air      float64 277.1, <xarray.Dataset>\n",
       " Dimensions:  ()\n",
       " Data variables:\n",
       "     air      float64 277.1, <xarray.Dataset>\n",
       " Dimensions:  ()\n",
       " Data variables:\n",
       "     air      float64 277.0, <xarray.Dataset>\n",
       " Dimensions:  ()\n",
       " Data variables:\n",
       "     air      float64 276.7, <xarray.Dataset>\n",
       " Dimensions:  ()\n",
       " Data variables:\n",
       "     air      float64 276.7, <xarray.Dataset>\n",
       " Dimensions:  ()\n",
       " Data variables:\n",
       "     air      float64 277.0, <xarray.Dataset>\n",
       " Dimensions:  ()\n",
       " Data variables:\n",
       "     air      float64 277.3, <xarray.Dataset>\n",
       " Dimensions:  ()\n",
       " Data variables:\n",
       "     air      float64 277.8, <xarray.Dataset>\n",
       " Dimensions:  ()\n",
       " Data variables:\n",
       "     air      float64 277.5, <xarray.Dataset>\n",
       " Dimensions:  ()\n",
       " Data variables:\n",
       "     air      float64 277.6, <xarray.Dataset>\n",
       " Dimensions:  ()\n",
       " Data variables:\n",
       "     air      float64 277.4, <xarray.Dataset>\n",
       " Dimensions:  ()\n",
       " Data variables:\n",
       "     air      float64 277.1, <xarray.Dataset>\n",
       " Dimensions:  ()\n",
       " Data variables:\n",
       "     air      float64 276.6, <xarray.Dataset>\n",
       " Dimensions:  ()\n",
       " Data variables:\n",
       "     air      float64 276.2, <xarray.Dataset>\n",
       " Dimensions:  ()\n",
       " Data variables:\n",
       "     air      float64 275.9, <xarray.Dataset>\n",
       " Dimensions:  ()\n",
       " Data variables:\n",
       "     air      float64 275.7, <xarray.Dataset>\n",
       " Dimensions:  ()\n",
       " Data variables:\n",
       "     air      float64 275.8, <xarray.Dataset>\n",
       " Dimensions:  ()\n",
       " Data variables:\n",
       "     air      float64 276.0, <xarray.Dataset>\n",
       " Dimensions:  ()\n",
       " Data variables:\n",
       "     air      float64 276.2, <xarray.Dataset>\n",
       " Dimensions:  ()\n",
       " Data variables:\n",
       "     air      float64 276.4, <xarray.Dataset>\n",
       " Dimensions:  ()\n",
       " Data variables:\n",
       "     air      float64 276.0, <xarray.Dataset>\n",
       " Dimensions:  ()\n",
       " Data variables:\n",
       "     air      float64 276.1, <xarray.Dataset>\n",
       " Dimensions:  ()\n",
       " Data variables:\n",
       "     air      float64 276.0, <xarray.Dataset>\n",
       " Dimensions:  ()\n",
       " Data variables:\n",
       "     air      float64 275.8, <xarray.Dataset>\n",
       " Dimensions:  ()\n",
       " Data variables:\n",
       "     air      float64 275.6, <xarray.Dataset>\n",
       " Dimensions:  ()\n",
       " Data variables:\n",
       "     air      float64 275.6, <xarray.Dataset>\n",
       " Dimensions:  ()\n",
       " Data variables:\n",
       "     air      float64 276.0, <xarray.Dataset>\n",
       " Dimensions:  ()\n",
       " Data variables:\n",
       "     air      float64 275.9, <xarray.Dataset>\n",
       " Dimensions:  ()\n",
       " Data variables:\n",
       "     air      float64 276.1, <xarray.Dataset>\n",
       " Dimensions:  ()\n",
       " Data variables:\n",
       "     air      float64 276.7, <xarray.Dataset>\n",
       " Dimensions:  ()\n",
       " Data variables:\n",
       "     air      float64 276.8, <xarray.Dataset>\n",
       " Dimensions:  ()\n",
       " Data variables:\n",
       "     air      float64 277.0, <xarray.Dataset>\n",
       " Dimensions:  ()\n",
       " Data variables:\n",
       "     air      float64 276.8, <xarray.Dataset>\n",
       " Dimensions:  ()\n",
       " Data variables:\n",
       "     air      float64 276.6, <xarray.Dataset>\n",
       " Dimensions:  ()\n",
       " Data variables:\n",
       "     air      float64 276.4, <xarray.Dataset>\n",
       " Dimensions:  ()\n",
       " Data variables:\n",
       "     air      float64 276.5, <xarray.Dataset>\n",
       " Dimensions:  ()\n",
       " Data variables:\n",
       "     air      float64 276.3, <xarray.Dataset>\n",
       " Dimensions:  ()\n",
       " Data variables:\n",
       "     air      float64 276.3, <xarray.Dataset>\n",
       " Dimensions:  ()\n",
       " Data variables:\n",
       "     air      float64 276.4, <xarray.Dataset>\n",
       " Dimensions:  ()\n",
       " Data variables:\n",
       "     air      float64 276.7, <xarray.Dataset>\n",
       " Dimensions:  ()\n",
       " Data variables:\n",
       "     air      float64 276.9, <xarray.Dataset>\n",
       " Dimensions:  ()\n",
       " Data variables:\n",
       "     air      float64 277.0, <xarray.Dataset>\n",
       " Dimensions:  ()\n",
       " Data variables:\n",
       "     air      float64 276.5, <xarray.Dataset>\n",
       " Dimensions:  ()\n",
       " Data variables:\n",
       "     air      float64 276.1, <xarray.Dataset>\n",
       " Dimensions:  ()\n",
       " Data variables:\n",
       "     air      float64 276.1, <xarray.Dataset>\n",
       " Dimensions:  ()\n",
       " Data variables:\n",
       "     air      float64 276.3, <xarray.Dataset>\n",
       " Dimensions:  ()\n",
       " Data variables:\n",
       "     air      float64 276.6, <xarray.Dataset>\n",
       " Dimensions:  ()\n",
       " Data variables:\n",
       "     air      float64 276.4, <xarray.Dataset>\n",
       " Dimensions:  ()\n",
       " Data variables:\n",
       "     air      float64 275.9, <xarray.Dataset>\n",
       " Dimensions:  ()\n",
       " Data variables:\n",
       "     air      float64 275.6, <xarray.Dataset>\n",
       " Dimensions:  ()\n",
       " Data variables:\n",
       "     air      float64 275.5, <xarray.Dataset>\n",
       " Dimensions:  ()\n",
       " Data variables:\n",
       "     air      float64 275.6, <xarray.Dataset>\n",
       " Dimensions:  ()\n",
       " Data variables:\n",
       "     air      float64 275.4, <xarray.Dataset>\n",
       " Dimensions:  ()\n",
       " Data variables:\n",
       "     air      float64 275.4, <xarray.Dataset>\n",
       " Dimensions:  ()\n",
       " Data variables:\n",
       "     air      float64 275.4, <xarray.Dataset>\n",
       " Dimensions:  ()\n",
       " Data variables:\n",
       "     air      float64 275.2, <xarray.Dataset>\n",
       " Dimensions:  ()\n",
       " Data variables:\n",
       "     air      float64 275.2, <xarray.Dataset>\n",
       " Dimensions:  ()\n",
       " Data variables:\n",
       "     air      float64 276.0, <xarray.Dataset>\n",
       " Dimensions:  ()\n",
       " Data variables:\n",
       "     air      float64 275.7, <xarray.Dataset>\n",
       " Dimensions:  ()\n",
       " Data variables:\n",
       "     air      float64 275.8, <xarray.Dataset>\n",
       " Dimensions:  ()\n",
       " Data variables:\n",
       "     air      float64 276.6, <xarray.Dataset>\n",
       " Dimensions:  ()\n",
       " Data variables:\n",
       "     air      float64 276.7, <xarray.Dataset>\n",
       " Dimensions:  ()\n",
       " Data variables:\n",
       "     air      float64 276.4, <xarray.Dataset>\n",
       " Dimensions:  ()\n",
       " Data variables:\n",
       "     air      float64 276.3, <xarray.Dataset>\n",
       " Dimensions:  ()\n",
       " Data variables:\n",
       "     air      float64 276.2, <xarray.Dataset>\n",
       " Dimensions:  ()\n",
       " Data variables:\n",
       "     air      float64 275.9, <xarray.Dataset>\n",
       " Dimensions:  ()\n",
       " Data variables:\n",
       "     air      float64 275.7, <xarray.Dataset>\n",
       " Dimensions:  ()\n",
       " Data variables:\n",
       "     air      float64 275.5, <xarray.Dataset>\n",
       " Dimensions:  ()\n",
       " Data variables:\n",
       "     air      float64 275.7, <xarray.Dataset>\n",
       " Dimensions:  ()\n",
       " Data variables:\n",
       "     air      float64 276.0, <xarray.Dataset>\n",
       " Dimensions:  ()\n",
       " Data variables:\n",
       "     air      float64 276.0, <xarray.Dataset>\n",
       " Dimensions:  ()\n",
       " Data variables:\n",
       "     air      float64 276.1, <xarray.Dataset>\n",
       " Dimensions:  ()\n",
       " Data variables:\n",
       "     air      float64 275.9, <xarray.Dataset>\n",
       " Dimensions:  ()\n",
       " Data variables:\n",
       "     air      float64 276.1, <xarray.Dataset>\n",
       " Dimensions:  ()\n",
       " Data variables:\n",
       "     air      float64 276.1, <xarray.Dataset>\n",
       " Dimensions:  ()\n",
       " Data variables:\n",
       "     air      float64 276.0, <xarray.Dataset>\n",
       " Dimensions:  ()\n",
       " Data variables:\n",
       "     air      float64 276.1, <xarray.Dataset>\n",
       " Dimensions:  ()\n",
       " Data variables:\n",
       "     air      float64 275.9, <xarray.Dataset>\n",
       " Dimensions:  ()\n",
       " Data variables:\n",
       "     air      float64 276.0, <xarray.Dataset>\n",
       " Dimensions:  ()\n",
       " Data variables:\n",
       "     air      float64 275.7, <xarray.Dataset>\n",
       " Dimensions:  ()\n",
       " Data variables:\n",
       "     air      float64 275.6, <xarray.Dataset>\n",
       " Dimensions:  ()\n",
       " Data variables:\n",
       "     air      float64 275.6, <xarray.Dataset>\n",
       " Dimensions:  ()\n",
       " Data variables:\n",
       "     air      float64 275.9, <xarray.Dataset>\n",
       " Dimensions:  ()\n",
       " Data variables:\n",
       "     air      float64 276.3, <xarray.Dataset>\n",
       " Dimensions:  ()\n",
       " Data variables:\n",
       "     air      float64 276.6, <xarray.Dataset>\n",
       " Dimensions:  ()\n",
       " Data variables:\n",
       "     air      float64 276.8, <xarray.Dataset>\n",
       " Dimensions:  ()\n",
       " Data variables:\n",
       "     air      float64 276.9, <xarray.Dataset>\n",
       " Dimensions:  ()\n",
       " Data variables:\n",
       "     air      float64 276.9, <xarray.Dataset>\n",
       " Dimensions:  ()\n",
       " Data variables:\n",
       "     air      float64 276.6, <xarray.Dataset>\n",
       " Dimensions:  ()\n",
       " Data variables:\n",
       "     air      float64 276.5, <xarray.Dataset>\n",
       " Dimensions:  ()\n",
       " Data variables:\n",
       "     air      float64 276.6, <xarray.Dataset>\n",
       " Dimensions:  ()\n",
       " Data variables:\n",
       "     air      float64 276.7, <xarray.Dataset>\n",
       " Dimensions:  ()\n",
       " Data variables:\n",
       "     air      float64 276.4, <xarray.Dataset>\n",
       " Dimensions:  ()\n",
       " Data variables:\n",
       "     air      float64 276.5, <xarray.Dataset>\n",
       " Dimensions:  ()\n",
       " Data variables:\n",
       "     air      float64 276.7, <xarray.Dataset>\n",
       " Dimensions:  ()\n",
       " Data variables:\n",
       "     air      float64 276.8, <xarray.Dataset>\n",
       " Dimensions:  ()\n",
       " Data variables:\n",
       "     air      float64 277.1, <xarray.Dataset>\n",
       " Dimensions:  ()\n",
       " Data variables:\n",
       "     air      float64 277.2, <xarray.Dataset>\n",
       " Dimensions:  ()\n",
       " Data variables:\n",
       "     air      float64 277.4, <xarray.Dataset>\n",
       " Dimensions:  ()\n",
       " Data variables:\n",
       "     air      float64 277.3, <xarray.Dataset>\n",
       " Dimensions:  ()\n",
       " Data variables:\n",
       "     air      float64 277.4, <xarray.Dataset>\n",
       " Dimensions:  ()\n",
       " Data variables:\n",
       "     air      float64 277.3, <xarray.Dataset>\n",
       " Dimensions:  ()\n",
       " Data variables:\n",
       "     air      float64 277.3, <xarray.Dataset>\n",
       " Dimensions:  ()\n",
       " Data variables:\n",
       "     air      float64 277.3, <xarray.Dataset>\n",
       " Dimensions:  ()\n",
       " Data variables:\n",
       "     air      float64 277.5, <xarray.Dataset>\n",
       " Dimensions:  ()\n",
       " Data variables:\n",
       "     air      float64 277.6, <xarray.Dataset>\n",
       " Dimensions:  ()\n",
       " Data variables:\n",
       "     air      float64 277.8, <xarray.Dataset>\n",
       " Dimensions:  ()\n",
       " Data variables:\n",
       "     air      float64 277.7, <xarray.Dataset>\n",
       " Dimensions:  ()\n",
       " Data variables:\n",
       "     air      float64 277.7, <xarray.Dataset>\n",
       " Dimensions:  ()\n",
       " Data variables:\n",
       "     air      float64 277.5, <xarray.Dataset>\n",
       " Dimensions:  ()\n",
       " Data variables:\n",
       "     air      float64 277.6, <xarray.Dataset>\n",
       " Dimensions:  ()\n",
       " Data variables:\n",
       "     air      float64 277.8, <xarray.Dataset>\n",
       " Dimensions:  ()\n",
       " Data variables:\n",
       "     air      float64 277.5, <xarray.Dataset>\n",
       " Dimensions:  ()\n",
       " Data variables:\n",
       "     air      float64 277.6, <xarray.Dataset>\n",
       " Dimensions:  ()\n",
       " Data variables:\n",
       "     air      float64 277.8, <xarray.Dataset>\n",
       " Dimensions:  ()\n",
       " Data variables:\n",
       "     air      float64 278.0, <xarray.Dataset>\n",
       " Dimensions:  ()\n",
       " Data variables:\n",
       "     air      float64 278.3, <xarray.Dataset>\n",
       " Dimensions:  ()\n",
       " Data variables:\n",
       "     air      float64 278.7, <xarray.Dataset>\n",
       " Dimensions:  ()\n",
       " Data variables:\n",
       "     air      float64 278.8, <xarray.Dataset>\n",
       " Dimensions:  ()\n",
       " Data variables:\n",
       "     air      float64 279.1, <xarray.Dataset>\n",
       " Dimensions:  ()\n",
       " Data variables:\n",
       "     air      float64 278.9, <xarray.Dataset>\n",
       " Dimensions:  ()\n",
       " Data variables:\n",
       "     air      float64 279.2, <xarray.Dataset>\n",
       " Dimensions:  ()\n",
       " Data variables:\n",
       "     air      float64 279.5, <xarray.Dataset>\n",
       " Dimensions:  ()\n",
       " Data variables:\n",
       "     air      float64 279.3, <xarray.Dataset>\n",
       " Dimensions:  ()\n",
       " Data variables:\n",
       "     air      float64 279.2, <xarray.Dataset>\n",
       " Dimensions:  ()\n",
       " Data variables:\n",
       "     air      float64 279.2, <xarray.Dataset>\n",
       " Dimensions:  ()\n",
       " Data variables:\n",
       "     air      float64 279.2, <xarray.Dataset>\n",
       " Dimensions:  ()\n",
       " Data variables:\n",
       "     air      float64 279.3, <xarray.Dataset>\n",
       " Dimensions:  ()\n",
       " Data variables:\n",
       "     air      float64 279.2, <xarray.Dataset>\n",
       " Dimensions:  ()\n",
       " Data variables:\n",
       "     air      float64 279.0, <xarray.Dataset>\n",
       " Dimensions:  ()\n",
       " Data variables:\n",
       "     air      float64 279.1, <xarray.Dataset>\n",
       " Dimensions:  ()\n",
       " Data variables:\n",
       "     air      float64 279.0, <xarray.Dataset>\n",
       " Dimensions:  ()\n",
       " Data variables:\n",
       "     air      float64 279.2, <xarray.Dataset>\n",
       " Dimensions:  ()\n",
       " Data variables:\n",
       "     air      float64 279.2, <xarray.Dataset>\n",
       " Dimensions:  ()\n",
       " Data variables:\n",
       "     air      float64 279.2, <xarray.Dataset>\n",
       " Dimensions:  ()\n",
       " Data variables:\n",
       "     air      float64 279.4, <xarray.Dataset>\n",
       " Dimensions:  ()\n",
       " Data variables:\n",
       "     air      float64 279.5, <xarray.Dataset>\n",
       " Dimensions:  ()\n",
       " Data variables:\n",
       "     air      float64 279.4, <xarray.Dataset>\n",
       " Dimensions:  ()\n",
       " Data variables:\n",
       "     air      float64 279.0, <xarray.Dataset>\n",
       " Dimensions:  ()\n",
       " Data variables:\n",
       "     air      float64 279.5, <xarray.Dataset>\n",
       " Dimensions:  ()\n",
       " Data variables:\n",
       "     air      float64 279.4, <xarray.Dataset>\n",
       " Dimensions:  ()\n",
       " Data variables:\n",
       "     air      float64 279.6, <xarray.Dataset>\n",
       " Dimensions:  ()\n",
       " Data variables:\n",
       "     air      float64 280.1, <xarray.Dataset>\n",
       " Dimensions:  ()\n",
       " Data variables:\n",
       "     air      float64 280.1, <xarray.Dataset>\n",
       " Dimensions:  ()\n",
       " Data variables:\n",
       "     air      float64 280.1, <xarray.Dataset>\n",
       " Dimensions:  ()\n",
       " Data variables:\n",
       "     air      float64 279.8, <xarray.Dataset>\n",
       " Dimensions:  ()\n",
       " Data variables:\n",
       "     air      float64 279.5, <xarray.Dataset>\n",
       " Dimensions:  ()\n",
       " Data variables:\n",
       "     air      float64 279.7, <xarray.Dataset>\n",
       " Dimensions:  ()\n",
       " Data variables:\n",
       "     air      float64 279.8, <xarray.Dataset>\n",
       " Dimensions:  ()\n",
       " Data variables:\n",
       "     air      float64 279.7, <xarray.Dataset>\n",
       " Dimensions:  ()\n",
       " Data variables:\n",
       "     air      float64 279.7, <xarray.Dataset>\n",
       " Dimensions:  ()\n",
       " Data variables:\n",
       "     air      float64 279.7, <xarray.Dataset>\n",
       " Dimensions:  ()\n",
       " Data variables:\n",
       "     air      float64 279.9, <xarray.Dataset>\n",
       " Dimensions:  ()\n",
       " Data variables:\n",
       "     air      float64 280.1, <xarray.Dataset>\n",
       " Dimensions:  ()\n",
       " Data variables:\n",
       "     air      float64 280.3, <xarray.Dataset>\n",
       " Dimensions:  ()\n",
       " Data variables:\n",
       "     air      float64 280.6, <xarray.Dataset>\n",
       " Dimensions:  ()\n",
       " Data variables:\n",
       "     air      float64 280.6, <xarray.Dataset>\n",
       " Dimensions:  ()\n",
       " Data variables:\n",
       "     air      float64 280.5, <xarray.Dataset>\n",
       " Dimensions:  ()\n",
       " Data variables:\n",
       "     air      float64 280.8, <xarray.Dataset>\n",
       " Dimensions:  ()\n",
       " Data variables:\n",
       "     air      float64 281.0, <xarray.Dataset>\n",
       " Dimensions:  ()\n",
       " Data variables:\n",
       "     air      float64 281.1, <xarray.Dataset>\n",
       " Dimensions:  ()\n",
       " Data variables:\n",
       "     air      float64 280.7, <xarray.Dataset>\n",
       " Dimensions:  ()\n",
       " Data variables:\n",
       "     air      float64 280.6, <xarray.Dataset>\n",
       " Dimensions:  ()\n",
       " Data variables:\n",
       "     air      float64 280.3, <xarray.Dataset>\n",
       " Dimensions:  ()\n",
       " Data variables:\n",
       "     air      float64 280.1, <xarray.Dataset>\n",
       " Dimensions:  ()\n",
       " Data variables:\n",
       "     air      float64 279.9, <xarray.Dataset>\n",
       " Dimensions:  ()\n",
       " Data variables:\n",
       "     air      float64 280.3, <xarray.Dataset>\n",
       " Dimensions:  ()\n",
       " Data variables:\n",
       "     air      float64 280.7, <xarray.Dataset>\n",
       " Dimensions:  ()\n",
       " Data variables:\n",
       "     air      float64 280.8, <xarray.Dataset>\n",
       " Dimensions:  ()\n",
       " Data variables:\n",
       "     air      float64 280.7, <xarray.Dataset>\n",
       " Dimensions:  ()\n",
       " Data variables:\n",
       "     air      float64 280.3, <xarray.Dataset>\n",
       " Dimensions:  ()\n",
       " Data variables:\n",
       "     air      float64 280.4, <xarray.Dataset>\n",
       " Dimensions:  ()\n",
       " Data variables:\n",
       "     air      float64 280.9, <xarray.Dataset>\n",
       " Dimensions:  ()\n",
       " Data variables:\n",
       "     air      float64 281.2, <xarray.Dataset>\n",
       " Dimensions:  ()\n",
       " Data variables:\n",
       "     air      float64 281.2, <xarray.Dataset>\n",
       " Dimensions:  ()\n",
       " Data variables:\n",
       "     air      float64 280.9, <xarray.Dataset>\n",
       " Dimensions:  ()\n",
       " Data variables:\n",
       "     air      float64 280.8, <xarray.Dataset>\n",
       " Dimensions:  ()\n",
       " Data variables:\n",
       "     air      float64 280.9, <xarray.Dataset>\n",
       " Dimensions:  ()\n",
       " Data variables:\n",
       "     air      float64 280.8, <xarray.Dataset>\n",
       " Dimensions:  ()\n",
       " Data variables:\n",
       "     air      float64 280.6, <xarray.Dataset>\n",
       " Dimensions:  ()\n",
       " Data variables:\n",
       "     air      float64 280.4, <xarray.Dataset>\n",
       " Dimensions:  ()\n",
       " Data variables:\n",
       "     air      float64 280.2, <xarray.Dataset>\n",
       " Dimensions:  ()\n",
       " Data variables:\n",
       "     air      float64 280.3, <xarray.Dataset>\n",
       " Dimensions:  ()\n",
       " Data variables:\n",
       "     air      float64 280.3, <xarray.Dataset>\n",
       " Dimensions:  ()\n",
       " Data variables:\n",
       "     air      float64 280.3, <xarray.Dataset>\n",
       " Dimensions:  ()\n",
       " Data variables:\n",
       "     air      float64 280.3, <xarray.Dataset>\n",
       " Dimensions:  ()\n",
       " Data variables:\n",
       "     air      float64 280.4, <xarray.Dataset>\n",
       " Dimensions:  ()\n",
       " Data variables:\n",
       "     air      float64 280.1, <xarray.Dataset>\n",
       " Dimensions:  ()\n",
       " Data variables:\n",
       "     air      float64 280.1, <xarray.Dataset>\n",
       " Dimensions:  ()\n",
       " Data variables:\n",
       "     air      float64 280.5, <xarray.Dataset>\n",
       " Dimensions:  ()\n",
       " Data variables:\n",
       "     air      float64 280.6, <xarray.Dataset>\n",
       " Dimensions:  ()\n",
       " Data variables:\n",
       "     air      float64 280.5, <xarray.Dataset>\n",
       " Dimensions:  ()\n",
       " Data variables:\n",
       "     air      float64 280.4, <xarray.Dataset>\n",
       " Dimensions:  ()\n",
       " Data variables:\n",
       "     air      float64 280.2, <xarray.Dataset>\n",
       " Dimensions:  ()\n",
       " Data variables:\n",
       "     air      float64 280.7, <xarray.Dataset>\n",
       " Dimensions:  ()\n",
       " Data variables:\n",
       "     air      float64 280.8, <xarray.Dataset>\n",
       " Dimensions:  ()\n",
       " Data variables:\n",
       "     air      float64 280.7, <xarray.Dataset>\n",
       " Dimensions:  ()\n",
       " Data variables:\n",
       "     air      float64 280.6, <xarray.Dataset>\n",
       " Dimensions:  ()\n",
       " Data variables:\n",
       "     air      float64 280.7, <xarray.Dataset>\n",
       " Dimensions:  ()\n",
       " Data variables:\n",
       "     air      float64 280.6, <xarray.Dataset>\n",
       " Dimensions:  ()\n",
       " Data variables:\n",
       "     air      float64 280.7, <xarray.Dataset>\n",
       " Dimensions:  ()\n",
       " Data variables:\n",
       "     air      float64 280.6, <xarray.Dataset>\n",
       " Dimensions:  ()\n",
       " Data variables:\n",
       "     air      float64 280.3, <xarray.Dataset>\n",
       " Dimensions:  ()\n",
       " Data variables:\n",
       "     air      float64 280.1, <xarray.Dataset>\n",
       " Dimensions:  ()\n",
       " Data variables:\n",
       "     air      float64 279.8, <xarray.Dataset>\n",
       " Dimensions:  ()\n",
       " Data variables:\n",
       "     air      float64 280.0, <xarray.Dataset>\n",
       " Dimensions:  ()\n",
       " Data variables:\n",
       "     air      float64 280.3, <xarray.Dataset>\n",
       " Dimensions:  ()\n",
       " Data variables:\n",
       "     air      float64 280.0, <xarray.Dataset>\n",
       " Dimensions:  ()\n",
       " Data variables:\n",
       "     air      float64 280.1, <xarray.Dataset>\n",
       " Dimensions:  ()\n",
       " Data variables:\n",
       "     air      float64 280.1, <xarray.Dataset>\n",
       " Dimensions:  ()\n",
       " Data variables:\n",
       "     air      float64 280.4, <xarray.Dataset>\n",
       " Dimensions:  ()\n",
       " Data variables:\n",
       "     air      float64 280.5, <xarray.Dataset>\n",
       " Dimensions:  ()\n",
       " Data variables:\n",
       "     air      float64 280.6, <xarray.Dataset>\n",
       " Dimensions:  ()\n",
       " Data variables:\n",
       "     air      float64 280.4, <xarray.Dataset>\n",
       " Dimensions:  ()\n",
       " Data variables:\n",
       "     air      float64 280.3, <xarray.Dataset>\n",
       " Dimensions:  ()\n",
       " Data variables:\n",
       "     air      float64 280.2, <xarray.Dataset>\n",
       " Dimensions:  ()\n",
       " Data variables:\n",
       "     air      float64 280.2, <xarray.Dataset>\n",
       " Dimensions:  ()\n",
       " Data variables:\n",
       "     air      float64 279.8, <xarray.Dataset>\n",
       " Dimensions:  ()\n",
       " Data variables:\n",
       "     air      float64 279.6, <xarray.Dataset>\n",
       " Dimensions:  ()\n",
       " Data variables:\n",
       "     air      float64 280.0, <xarray.Dataset>\n",
       " Dimensions:  ()\n",
       " Data variables:\n",
       "     air      float64 279.9, <xarray.Dataset>\n",
       " Dimensions:  ()\n",
       " Data variables:\n",
       "     air      float64 279.9, <xarray.Dataset>\n",
       " Dimensions:  ()\n",
       " Data variables:\n",
       "     air      float64 280.1, <xarray.Dataset>\n",
       " Dimensions:  ()\n",
       " Data variables:\n",
       "     air      float64 280.1, <xarray.Dataset>\n",
       " Dimensions:  ()\n",
       " Data variables:\n",
       "     air      float64 280.4, <xarray.Dataset>\n",
       " Dimensions:  ()\n",
       " Data variables:\n",
       "     air      float64 280.6, <xarray.Dataset>\n",
       " Dimensions:  ()\n",
       " Data variables:\n",
       "     air      float64 280.4, <xarray.Dataset>\n",
       " Dimensions:  ()\n",
       " Data variables:\n",
       "     air      float64 280.4, <xarray.Dataset>\n",
       " Dimensions:  ()\n",
       " Data variables:\n",
       "     air      float64 280.5, <xarray.Dataset>\n",
       " Dimensions:  ()\n",
       " Data variables:\n",
       "     air      float64 280.5, <xarray.Dataset>\n",
       " Dimensions:  ()\n",
       " Data variables:\n",
       "     air      float64 280.7, <xarray.Dataset>\n",
       " Dimensions:  ()\n",
       " Data variables:\n",
       "     air      float64 280.5, <xarray.Dataset>\n",
       " Dimensions:  ()\n",
       " Data variables:\n",
       "     air      float64 280.2, <xarray.Dataset>\n",
       " Dimensions:  ()\n",
       " Data variables:\n",
       "     air      float64 280.3, <xarray.Dataset>\n",
       " Dimensions:  ()\n",
       " Data variables:\n",
       "     air      float64 280.4, <xarray.Dataset>\n",
       " Dimensions:  ()\n",
       " Data variables:\n",
       "     air      float64 280.1, <xarray.Dataset>\n",
       " Dimensions:  ()\n",
       " Data variables:\n",
       "     air      float64 280.0, <xarray.Dataset>\n",
       " Dimensions:  ()\n",
       " Data variables:\n",
       "     air      float64 280.1, <xarray.Dataset>\n",
       " Dimensions:  ()\n",
       " Data variables:\n",
       "     air      float64 280.0, <xarray.Dataset>\n",
       " Dimensions:  ()\n",
       " Data variables:\n",
       "     air      float64 279.9, <xarray.Dataset>\n",
       " Dimensions:  ()\n",
       " Data variables:\n",
       "     air      float64 279.5, <xarray.Dataset>\n",
       " Dimensions:  ()\n",
       " Data variables:\n",
       "     air      float64 279.2, <xarray.Dataset>\n",
       " Dimensions:  ()\n",
       " Data variables:\n",
       "     air      float64 279.3, <xarray.Dataset>\n",
       " Dimensions:  ()\n",
       " Data variables:\n",
       "     air      float64 279.5, <xarray.Dataset>\n",
       " Dimensions:  ()\n",
       " Data variables:\n",
       "     air      float64 279.6, <xarray.Dataset>\n",
       " Dimensions:  ()\n",
       " Data variables:\n",
       "     air      float64 279.6, <xarray.Dataset>\n",
       " Dimensions:  ()\n",
       " Data variables:\n",
       "     air      float64 279.5, <xarray.Dataset>\n",
       " Dimensions:  ()\n",
       " Data variables:\n",
       "     air      float64 279.4, <xarray.Dataset>\n",
       " Dimensions:  ()\n",
       " Data variables:\n",
       "     air      float64 279.4, <xarray.Dataset>\n",
       " Dimensions:  ()\n",
       " Data variables:\n",
       "     air      float64 279.6, <xarray.Dataset>\n",
       " Dimensions:  ()\n",
       " Data variables:\n",
       "     air      float64 279.2, <xarray.Dataset>\n",
       " Dimensions:  ()\n",
       " Data variables:\n",
       "     air      float64 279.0, <xarray.Dataset>\n",
       " Dimensions:  ()\n",
       " Data variables:\n",
       "     air      float64 278.9, <xarray.Dataset>\n",
       " Dimensions:  ()\n",
       " Data variables:\n",
       "     air      float64 278.8, <xarray.Dataset>\n",
       " Dimensions:  ()\n",
       " Data variables:\n",
       "     air      float64 279.1, <xarray.Dataset>\n",
       " Dimensions:  ()\n",
       " Data variables:\n",
       "     air      float64 279.5, <xarray.Dataset>\n",
       " Dimensions:  ()\n",
       " Data variables:\n",
       "     air      float64 279.6, <xarray.Dataset>\n",
       " Dimensions:  ()\n",
       " Data variables:\n",
       "     air      float64 279.5, <xarray.Dataset>\n",
       " Dimensions:  ()\n",
       " Data variables:\n",
       "     air      float64 279.3, <xarray.Dataset>\n",
       " Dimensions:  ()\n",
       " Data variables:\n",
       "     air      float64 279.1, <xarray.Dataset>\n",
       " Dimensions:  ()\n",
       " Data variables:\n",
       "     air      float64 279.0, <xarray.Dataset>\n",
       " Dimensions:  ()\n",
       " Data variables:\n",
       "     air      float64 279.1, <xarray.Dataset>\n",
       " Dimensions:  ()\n",
       " Data variables:\n",
       "     air      float64 279.2, <xarray.Dataset>\n",
       " Dimensions:  ()\n",
       " Data variables:\n",
       "     air      float64 279.2, <xarray.Dataset>\n",
       " Dimensions:  ()\n",
       " Data variables:\n",
       "     air      float64 279.4, <xarray.Dataset>\n",
       " Dimensions:  ()\n",
       " Data variables:\n",
       "     air      float64 279.6, <xarray.Dataset>\n",
       " Dimensions:  ()\n",
       " Data variables:\n",
       "     air      float64 279.4, <xarray.Dataset>\n",
       " Dimensions:  ()\n",
       " Data variables:\n",
       "     air      float64 279.3, <xarray.Dataset>\n",
       " Dimensions:  ()\n",
       " Data variables:\n",
       "     air      float64 279.3, <xarray.Dataset>\n",
       " Dimensions:  ()\n",
       " Data variables:\n",
       "     air      float64 279.2, <xarray.Dataset>\n",
       " Dimensions:  ()\n",
       " Data variables:\n",
       "     air      float64 279.0, <xarray.Dataset>\n",
       " Dimensions:  ()\n",
       " Data variables:\n",
       "     air      float64 278.9, <xarray.Dataset>\n",
       " Dimensions:  ()\n",
       " Data variables:\n",
       "     air      float64 278.6, <xarray.Dataset>\n",
       " Dimensions:  ()\n",
       " Data variables:\n",
       "     air      float64 278.4, <xarray.Dataset>\n",
       " Dimensions:  ()\n",
       " Data variables:\n",
       "     air      float64 278.5, <xarray.Dataset>\n",
       " Dimensions:  ()\n",
       " Data variables:\n",
       "     air      float64 278.6, <xarray.Dataset>\n",
       " Dimensions:  ()\n",
       " Data variables:\n",
       "     air      float64 278.1, <xarray.Dataset>\n",
       " Dimensions:  ()\n",
       " Data variables:\n",
       "     air      float64 278.1, <xarray.Dataset>\n",
       " Dimensions:  ()\n",
       " Data variables:\n",
       "     air      float64 278.1, <xarray.Dataset>\n",
       " Dimensions:  ()\n",
       " Data variables:\n",
       "     air      float64 278.2, <xarray.Dataset>\n",
       " Dimensions:  ()\n",
       " Data variables:\n",
       "     air      float64 278.5, <xarray.Dataset>\n",
       " Dimensions:  ()\n",
       " Data variables:\n",
       "     air      float64 278.5, <xarray.Dataset>\n",
       " Dimensions:  ()\n",
       " Data variables:\n",
       "     air      float64 278.5, <xarray.Dataset>\n",
       " Dimensions:  ()\n",
       " Data variables:\n",
       "     air      float64 278.4, <xarray.Dataset>\n",
       " Dimensions:  ()\n",
       " Data variables:\n",
       "     air      float64 278.5, <xarray.Dataset>\n",
       " Dimensions:  ()\n",
       " Data variables:\n",
       "     air      float64 278.5, <xarray.Dataset>\n",
       " Dimensions:  ()\n",
       " Data variables:\n",
       "     air      float64 278.4, <xarray.Dataset>\n",
       " Dimensions:  ()\n",
       " Data variables:\n",
       "     air      float64 278.4, <xarray.Dataset>\n",
       " Dimensions:  ()\n",
       " Data variables:\n",
       "     air      float64 278.2, <xarray.Dataset>\n",
       " Dimensions:  ()\n",
       " Data variables:\n",
       "     air      float64 278.3, <xarray.Dataset>\n",
       " Dimensions:  ()\n",
       " Data variables:\n",
       "     air      float64 278.1, <xarray.Dataset>\n",
       " Dimensions:  ()\n",
       " Data variables:\n",
       "     air      float64 278.1, <xarray.Dataset>\n",
       " Dimensions:  ()\n",
       " Data variables:\n",
       "     air      float64 278.3, <xarray.Dataset>\n",
       " Dimensions:  ()\n",
       " Data variables:\n",
       "     air      float64 278.4, <xarray.Dataset>\n",
       " Dimensions:  ()\n",
       " Data variables:\n",
       "     air      float64 278.4, <xarray.Dataset>\n",
       " Dimensions:  ()\n",
       " Data variables:\n",
       "     air      float64 278.4, <xarray.Dataset>\n",
       " Dimensions:  ()\n",
       " Data variables:\n",
       "     air      float64 278.3, <xarray.Dataset>\n",
       " Dimensions:  ()\n",
       " Data variables:\n",
       "     air      float64 278.0, <xarray.Dataset>\n",
       " Dimensions:  ()\n",
       " Data variables:\n",
       "     air      float64 278.1, <xarray.Dataset>\n",
       " Dimensions:  ()\n",
       " Data variables:\n",
       "     air      float64 278.5, <xarray.Dataset>\n",
       " Dimensions:  ()\n",
       " Data variables:\n",
       "     air      float64 278.4, <xarray.Dataset>\n",
       " Dimensions:  ()\n",
       " Data variables:\n",
       "     air      float64 278.1, <xarray.Dataset>\n",
       " Dimensions:  ()\n",
       " Data variables:\n",
       "     air      float64 278.1, <xarray.Dataset>\n",
       " Dimensions:  ()\n",
       " Data variables:\n",
       "     air      float64 278.0, <xarray.Dataset>\n",
       " Dimensions:  ()\n",
       " Data variables:\n",
       "     air      float64 278.0, <xarray.Dataset>\n",
       " Dimensions:  ()\n",
       " Data variables:\n",
       "     air      float64 278.3, <xarray.Dataset>\n",
       " Dimensions:  ()\n",
       " Data variables:\n",
       "     air      float64 278.5, <xarray.Dataset>\n",
       " Dimensions:  ()\n",
       " Data variables:\n",
       "     air      float64 278.4, <xarray.Dataset>\n",
       " Dimensions:  ()\n",
       " Data variables:\n",
       "     air      float64 278.2, <xarray.Dataset>\n",
       " Dimensions:  ()\n",
       " Data variables:\n",
       "     air      float64 278.1, <xarray.Dataset>\n",
       " Dimensions:  ()\n",
       " Data variables:\n",
       "     air      float64 278.2, <xarray.Dataset>\n",
       " Dimensions:  ()\n",
       " Data variables:\n",
       "     air      float64 278.0, <xarray.Dataset>\n",
       " Dimensions:  ()\n",
       " Data variables:\n",
       "     air      float64 278.0, <xarray.Dataset>\n",
       " Dimensions:  ()\n",
       " Data variables:\n",
       "     air      float64 277.8, <xarray.Dataset>\n",
       " Dimensions:  ()\n",
       " Data variables:\n",
       "     air      float64 278.0, <xarray.Dataset>\n",
       " Dimensions:  ()\n",
       " Data variables:\n",
       "     air      float64 277.8, <xarray.Dataset>\n",
       " Dimensions:  ()\n",
       " Data variables:\n",
       "     air      float64 277.9, <xarray.Dataset>\n",
       " Dimensions:  ()\n",
       " Data variables:\n",
       "     air      float64 277.8, <xarray.Dataset>\n",
       " Dimensions:  ()\n",
       " Data variables:\n",
       "     air      float64 277.6, <xarray.Dataset>\n",
       " Dimensions:  ()\n",
       " Data variables:\n",
       "     air      float64 277.5, <xarray.Dataset>\n",
       " Dimensions:  ()\n",
       " Data variables:\n",
       "     air      float64 277.4, <xarray.Dataset>\n",
       " Dimensions:  ()\n",
       " Data variables:\n",
       "     air      float64 277.6, <xarray.Dataset>\n",
       " Dimensions:  ()\n",
       " Data variables:\n",
       "     air      float64 277.9, <xarray.Dataset>\n",
       " Dimensions:  ()\n",
       " Data variables:\n",
       "     air      float64 278.0, <xarray.Dataset>\n",
       " Dimensions:  ()\n",
       " Data variables:\n",
       "     air      float64 278.1, <xarray.Dataset>\n",
       " Dimensions:  ()\n",
       " Data variables:\n",
       "     air      float64 278.1, <xarray.Dataset>\n",
       " Dimensions:  ()\n",
       " Data variables:\n",
       "     air      float64 278.1, <xarray.Dataset>\n",
       " Dimensions:  ()\n",
       " Data variables:\n",
       "     air      float64 277.9, <xarray.Dataset>\n",
       " Dimensions:  ()\n",
       " Data variables:\n",
       "     air      float64 277.8, <xarray.Dataset>\n",
       " Dimensions:  ()\n",
       " Data variables:\n",
       "     air      float64 277.8, <xarray.Dataset>\n",
       " Dimensions:  ()\n",
       " Data variables:\n",
       "     air      float64 277.8, <xarray.Dataset>\n",
       " Dimensions:  ()\n",
       " Data variables:\n",
       "     air      float64 277.5, <xarray.Dataset>\n",
       " Dimensions:  ()\n",
       " Data variables:\n",
       "     air      float64 277.6, <xarray.Dataset>\n",
       " Dimensions:  ()\n",
       " Data variables:\n",
       "     air      float64 277.7, <xarray.Dataset>\n",
       " Dimensions:  ()\n",
       " Data variables:\n",
       "     air      float64 277.5, <xarray.Dataset>\n",
       " Dimensions:  ()\n",
       " Data variables:\n",
       "     air      float64 277.3, <xarray.Dataset>\n",
       " Dimensions:  ()\n",
       " Data variables:\n",
       "     air      float64 277.4, <xarray.Dataset>\n",
       " Dimensions:  ()\n",
       " Data variables:\n",
       "     air      float64 277.4, <xarray.Dataset>\n",
       " Dimensions:  ()\n",
       " Data variables:\n",
       "     air      float64 277.2, <xarray.Dataset>\n",
       " Dimensions:  ()\n",
       " Data variables:\n",
       "     air      float64 277.0, <xarray.Dataset>\n",
       " Dimensions:  ()\n",
       " Data variables:\n",
       "     air      float64 276.7, <xarray.Dataset>\n",
       " Dimensions:  ()\n",
       " Data variables:\n",
       "     air      float64 276.7, <xarray.Dataset>\n",
       " Dimensions:  ()\n",
       " Data variables:\n",
       "     air      float64 276.7, <xarray.Dataset>\n",
       " Dimensions:  ()\n",
       " Data variables:\n",
       "     air      float64 276.7, <xarray.Dataset>\n",
       " Dimensions:  ()\n",
       " Data variables:\n",
       "     air      float64 276.6, <xarray.Dataset>\n",
       " Dimensions:  ()\n",
       " Data variables:\n",
       "     air      float64 276.5, <xarray.Dataset>\n",
       " Dimensions:  ()\n",
       " Data variables:\n",
       "     air      float64 276.5, <xarray.Dataset>\n",
       " Dimensions:  ()\n",
       " Data variables:\n",
       "     air      float64 276.7, <xarray.Dataset>\n",
       " Dimensions:  ()\n",
       " Data variables:\n",
       "     air      float64 276.8, <xarray.Dataset>\n",
       " Dimensions:  ()\n",
       " Data variables:\n",
       "     air      float64 277.1, <xarray.Dataset>\n",
       " Dimensions:  ()\n",
       " Data variables:\n",
       "     air      float64 277.2, <xarray.Dataset>\n",
       " Dimensions:  ()\n",
       " Data variables:\n",
       "     air      float64 277.3, <xarray.Dataset>\n",
       " Dimensions:  ()\n",
       " Data variables:\n",
       "     air      float64 277.3, <xarray.Dataset>\n",
       " Dimensions:  ()\n",
       " Data variables:\n",
       "     air      float64 277.2, <xarray.Dataset>\n",
       " Dimensions:  ()\n",
       " Data variables:\n",
       "     air      float64 277.1, <xarray.Dataset>\n",
       " Dimensions:  ()\n",
       " Data variables:\n",
       "     air      float64 277.1, <xarray.Dataset>\n",
       " Dimensions:  ()\n",
       " Data variables:\n",
       "     air      float64 277.4, <xarray.Dataset>\n",
       " Dimensions:  ()\n",
       " Data variables:\n",
       "     air      float64 277.8]"
      ]
     },
     "execution_count": 73,
     "metadata": {},
     "output_type": "execute_result"
    }
   ],
   "source": [
    "mean.collect()"
   ]
  },
  {
   "cell_type": "code",
   "execution_count": 75,
   "metadata": {},
   "outputs": [
    {
     "data": {
      "text/plain": [
       "<xarray.DataArray 'air' ()>\n",
       "array(277.0142912613065)\n",
       "Coordinates:\n",
       "    time     datetime64[ns] 2012-01-01"
      ]
     },
     "execution_count": 75,
     "metadata": {},
     "output_type": "execute_result"
    }
   ],
   "source": [
    "a.air.mean()"
   ]
  },
  {
   "cell_type": "code",
   "execution_count": 80,
   "metadata": {},
   "outputs": [
    {
     "data": {
      "text/plain": [
       "array([ 90. ,  87.5,  85. ,  82.5,  80. ,  77.5,  75. ,  72.5,  70. ,\n",
       "        67.5,  65. ,  62.5,  60. ,  57.5,  55. ,  52.5,  50. ,  47.5,\n",
       "        45. ,  42.5,  40. ,  37.5,  35. ,  32.5,  30. ,  27.5,  25. ,\n",
       "        22.5,  20. ,  17.5,  15. ,  12.5,  10. ,   7.5,   5. ,   2.5,\n",
       "         0. ,  -2.5,  -5. ,  -7.5, -10. , -12.5, -15. , -17.5, -20. ,\n",
       "       -22.5, -25. , -27.5, -30. , -32.5, -35. , -37.5, -40. , -42.5,\n",
       "       -45. , -47.5, -50. , -52.5, -55. , -57.5, -60. , -62.5, -65. ,\n",
       "       -67.5, -70. , -72.5, -75. , -77.5, -80. , -82.5, -85. , -87.5, -90. ], dtype=float32)"
      ]
     },
     "execution_count": 80,
     "metadata": {},
     "output_type": "execute_result"
    }
   ],
   "source": [
    "dset.lat.values"
   ]
  },
  {
   "cell_type": "code",
   "execution_count": 81,
   "metadata": {},
   "outputs": [
    {
     "data": {
      "text/plain": [
       "array([   0. ,    2.5,    5. ,    7.5,   10. ,   12.5,   15. ,   17.5,\n",
       "         20. ,   22.5,   25. ,   27.5,   30. ,   32.5,   35. ,   37.5,\n",
       "         40. ,   42.5,   45. ,   47.5,   50. ,   52.5,   55. ,   57.5,\n",
       "         60. ,   62.5,   65. ,   67.5,   70. ,   72.5,   75. ,   77.5,\n",
       "         80. ,   82.5,   85. ,   87.5,   90. ,   92.5,   95. ,   97.5,\n",
       "        100. ,  102.5,  105. ,  107.5,  110. ,  112.5,  115. ,  117.5,\n",
       "        120. ,  122.5,  125. ,  127.5,  130. ,  132.5,  135. ,  137.5,\n",
       "        140. ,  142.5,  145. ,  147.5,  150. ,  152.5,  155. ,  157.5,\n",
       "        160. ,  162.5,  165. ,  167.5,  170. ,  172.5,  175. ,  177.5,\n",
       "        180. ,  182.5,  185. ,  187.5,  190. ,  192.5,  195. ,  197.5,\n",
       "        200. ,  202.5,  205. ,  207.5,  210. ,  212.5,  215. ,  217.5,\n",
       "        220. ,  222.5,  225. ,  227.5,  230. ,  232.5,  235. ,  237.5,\n",
       "        240. ,  242.5,  245. ,  247.5,  250. ,  252.5,  255. ,  257.5,\n",
       "        260. ,  262.5,  265. ,  267.5,  270. ,  272.5,  275. ,  277.5,\n",
       "        280. ,  282.5,  285. ,  287.5,  290. ,  292.5,  295. ,  297.5,\n",
       "        300. ,  302.5,  305. ,  307.5,  310. ,  312.5,  315. ,  317.5,\n",
       "        320. ,  322.5,  325. ,  327.5,  330. ,  332.5,  335. ,  337.5,\n",
       "        340. ,  342.5,  345. ,  347.5,  350. ,  352.5,  355. ,  357.5], dtype=float32)"
      ]
     },
     "execution_count": 81,
     "metadata": {},
     "output_type": "execute_result"
    }
   ],
   "source": [
    "dset.lon.values"
   ]
  },
  {
   "cell_type": "code",
   "execution_count": 82,
   "metadata": {},
   "outputs": [
    {
     "data": {
      "text/plain": [
       "<xarray.Dataset>\n",
       "Dimensions:  (time: 366)\n",
       "Coordinates:\n",
       "    lat      float32 0.0\n",
       "    lon      float32 0.0\n",
       "  * time     (time) datetime64[ns] 2012-01-01 2012-01-02 2012-01-03 ...\n",
       "Data variables:\n",
       "    air      (time) float64 298.5 298.9 299.3 298.8 299.4 299.6 299.4 300.3 ...\n",
       "Attributes:\n",
       "    Conventions:  COARDS\n",
       "    title:        mean daily NMC reanalysis (2012)\n",
       "    history:      created 2011/12 by Hoop (netCDF2.3)\n",
       "    description:  Data is from NMC initialized reanalysis\\n(4x/day).  These a...\n",
       "    platform:     Model\n",
       "    references:   http://www.esrl.noaa.gov/psd/data/gridded/data.ncep.reanaly..."
      ]
     },
     "execution_count": 82,
     "metadata": {},
     "output_type": "execute_result"
    }
   ],
   "source": [
    "dset.sel(lat=0, lon=0)"
   ]
  },
  {
   "cell_type": "code",
   "execution_count": 83,
   "metadata": {},
   "outputs": [
    {
     "data": {
      "text/plain": [
       "8"
      ]
     },
     "execution_count": 83,
     "metadata": {},
     "output_type": "execute_result"
    }
   ],
   "source": [
    "rdd1.getNumPartitions()"
   ]
  },
  {
   "cell_type": "code",
   "execution_count": null,
   "metadata": {
    "collapsed": true
   },
   "outputs": [],
   "source": []
  }
 ],
 "metadata": {
  "kernelspec": {
   "display_name": "Python 2",
   "language": "python",
   "name": "python2"
  },
  "language_info": {
   "codemirror_mode": {
    "name": "ipython",
    "version": 2
   },
   "file_extension": ".py",
   "mimetype": "text/x-python",
   "name": "python",
   "nbconvert_exporter": "python",
   "pygments_lexer": "ipython2",
   "version": "2.7.13"
  }
 },
 "nbformat": 4,
 "nbformat_minor": 2
}
