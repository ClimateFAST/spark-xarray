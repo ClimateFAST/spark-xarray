{
 "cells": [
  {
   "cell_type": "code",
   "execution_count": 2,
   "metadata": {},
   "outputs": [],
   "source": [
    "# %load test_biascorrect.py\n",
    "from sparkxarray.downscale import biascorrect as bc\n",
    "import numpy as np\n",
    "import xarray as xr\n",
    "import numpy as np\n",
    "import pandas as pd\n",
    "import seaborn as sns # pandas aware plotting library\n",
    "\n",
    "np.random.seed(123)"
   ]
  },
  {
   "cell_type": "markdown",
   "metadata": {},
   "source": [
    "\n",
    "n = 1000\n",
    "\n",
    "raw_data = np.random.uniform(low=0, high=40, size=(10,))\n",
    "obs = np.random.uniform(low=0.5, high=13.3, size=(n,))\n",
    "mod = np.random.uniform(low=1.5, high=19.3, size=(n,))\n",
    "\n",
    "\n",
    "\n",
    "a = bc.Biascorrect(obs_data=obs, model_data=mod, raw_data=raw_data)\n",
    "\n",
    "print(\"Fake observed data: \\n{} \\n\".format(a.obs_data))\n",
    "print(\"Fake model data: \\n{} \\n\".format(a.model_data))\n",
    "bc_data =  a.qpqm()\n",
    "print(bc_data.shape)\n",
    "assert(raw_data.shape == bc_data.shape)\n",
    "#assert raw_data == bc_data\n",
    "\n",
    "\n",
    "\n"
   ]
  },
  {
   "cell_type": "code",
   "execution_count": 6,
   "metadata": {},
   "outputs": [],
   "source": [
    "times = pd.date_range('2000-01-01', '2001-12-31', name='time')\n",
    "annual_cycle = np.sin(2 * np.pi * (times.dayofyear.values / 365.25 - 0.28))\n",
    "\n",
    "# Make some Fake observation dataset\n",
    "base = 10 + 15 * annual_cycle.reshape(-1, 1)\n",
    "tmin_values = base + 3 * np.random.randn(annual_cycle.size, 3)\n",
    "tmax_values = base + 10 + 3 * np.random.randn(annual_cycle.size, 3)\n",
    "\n",
    "obs_ds = xr.Dataset({'tmin': (('time', 'location'), tmin_values),\n",
    "                 'tmax': (('time', 'location'), tmax_values)},\n",
    "                {'time': times, 'location': ['IA', 'IN', 'IL']})\n",
    "\n",
    "\n",
    "# Make some Fake model dataset\n",
    "base = 12 + 15 * annual_cycle.reshape(-1, 1)\n",
    "tmin_values = base + 5 * np.random.randn(annual_cycle.size, 3)\n",
    "tmax_values = base + 12 + 3 * np.random.randn(annual_cycle.size, 3)\n",
    "\n",
    "mod_ds = xr.Dataset({'tmin': (('time', 'location'), tmin_values),\n",
    "                 'tmax': (('time', 'location'), tmax_values)},\n",
    "                {'time': times, 'location': ['IA', 'IN', 'IL']})"
   ]
  },
  {
   "cell_type": "code",
   "execution_count": 7,
   "metadata": {},
   "outputs": [
    {
     "data": {
      "text/plain": [
       "<xarray.Dataset>\n",
       "Dimensions:   (location: 3, time: 731)\n",
       "Coordinates:\n",
       "  * time      (time) datetime64[ns] 2000-01-01 2000-01-02 2000-01-03 ...\n",
       "  * location  (location) <U2 'IA' 'IN' 'IL'\n",
       "Data variables:\n",
       "    tmin      (time, location) float64 -5.459 -6.895 -8.714 0.4239 -3.835 ...\n",
       "    tmax      (time, location) float64 2.658 6.414 3.473 6.414 9.572 5.895 ..."
      ]
     },
     "execution_count": 7,
     "metadata": {},
     "output_type": "execute_result"
    }
   ],
   "source": [
    "obs_ds"
   ]
  },
  {
   "cell_type": "code",
   "execution_count": 8,
   "metadata": {},
   "outputs": [
    {
     "data": {
      "text/plain": [
       "<xarray.Dataset>\n",
       "Dimensions:   (location: 3, time: 731)\n",
       "Coordinates:\n",
       "  * time      (time) datetime64[ns] 2000-01-01 2000-01-02 2000-01-03 ...\n",
       "  * location  (location) <U2 'IA' 'IN' 'IL'\n",
       "Data variables:\n",
       "    tmin      (time, location) float64 -3.641 4.729 -0.08711 0.6363 -3.061 ...\n",
       "    tmax      (time, location) float64 9.162 11.54 11.62 7.307 8.869 5.658 ..."
      ]
     },
     "execution_count": 8,
     "metadata": {},
     "output_type": "execute_result"
    }
   ],
   "source": [
    "mod_ds"
   ]
  },
  {
   "cell_type": "code",
   "execution_count": 47,
   "metadata": {},
   "outputs": [
    {
     "name": "stderr",
     "output_type": "stream",
     "text": [
      "/home/abanihi/anaconda3/envs/pangeo/lib/python3.6/site-packages/ipykernel_launcher.py:2: AccessorRegistrationWarning: registration of accessor <class '__main__.Bias'> under name 'bias' for type <class 'xarray.core.dataset.Dataset'> is overriding a preexisting attribute with the same name.\n",
      "  \n"
     ]
    }
   ],
   "source": [
    "@xr.register_dataset_accessor('bias')\n",
    "class Bias(object):\n",
    "    def __init__(self, xarray_ob1, xarray_ob2):\n",
    "        self._obs = xarray_ob1\n",
    "        self._model = xarray_ob2\n",
    "        self._bc = None\n",
    "        self._mean = None\n",
    "    \n",
    "    @property\n",
    "    def mean(self):\n",
    "        if self._mean is None:\n",
    "            data = self._obs.tmax.values\n",
    "            self._mean = np.mean(data)\n",
    "            \n",
    "        return self._mean\n",
    "    \n",
    "    @property\n",
    "    def bias_correct(self):\n",
    "        if self._bc == None:\n",
    "            self._bc = self._obs.mean(dim='location')\n",
    "            \n",
    "        return self._bc\n",
    " "
   ]
  },
  {
   "cell_type": "code",
   "execution_count": 48,
   "metadata": {},
   "outputs": [],
   "source": [
    "ds = Bias(obs_ds, mod_ds)"
   ]
  },
  {
   "cell_type": "code",
   "execution_count": 49,
   "metadata": {},
   "outputs": [
    {
     "data": {
      "text/plain": [
       "<xarray.DataArray 'tmax' (time: 731)>\n",
       "array([ 4.181262,  7.2937  ,  7.16931 , ...,  4.843581,  4.642949,  3.297611])\n",
       "Coordinates:\n",
       "  * time     (time) datetime64[ns] 2000-01-01 2000-01-02 2000-01-03 ..."
      ]
     },
     "execution_count": 49,
     "metadata": {},
     "output_type": "execute_result"
    }
   ],
   "source": [
    "ds.bias_correct.tmax"
   ]
  },
  {
   "cell_type": "code",
   "execution_count": 50,
   "metadata": {},
   "outputs": [
    {
     "data": {
      "text/plain": [
       "<xarray.DataArray 'tmax' (time: 731, location: 3)>\n",
       "array([[  2.657568,   6.413621,   3.472597],\n",
       "       [  6.414292,   9.571507,   5.895302],\n",
       "       [  3.269672,   6.468234,  11.770023],\n",
       "       ..., \n",
       "       [  3.097954,   7.325948,   4.10684 ],\n",
       "       [  8.455372,   3.131549,   2.341927],\n",
       "       [  6.795273,   2.879086,   0.218475]])\n",
       "Coordinates:\n",
       "  * time      (time) datetime64[ns] 2000-01-01 2000-01-02 2000-01-03 ...\n",
       "  * location  (location) <U2 'IA' 'IN' 'IL'"
      ]
     },
     "execution_count": 50,
     "metadata": {},
     "output_type": "execute_result"
    }
   ],
   "source": [
    "ds._obs.tmax"
   ]
  },
  {
   "cell_type": "code",
   "execution_count": 32,
   "metadata": {},
   "outputs": [
    {
     "data": {
      "text/plain": [
       "<xarray.Dataset>\n",
       "Dimensions:   (location: 3, time: 731)\n",
       "Coordinates:\n",
       "  * time      (time) datetime64[ns] 2000-01-01 2000-01-02 2000-01-03 ...\n",
       "  * location  (location) <U2 'IA' 'IN' 'IL'\n",
       "Data variables:\n",
       "    tmin      (time, location) float64 -3.641 4.729 -0.08711 0.6363 -3.061 ...\n",
       "    tmax      (time, location) float64 9.162 11.54 11.62 7.307 8.869 5.658 ..."
      ]
     },
     "execution_count": 32,
     "metadata": {},
     "output_type": "execute_result"
    }
   ],
   "source": [
    "ds._model"
   ]
  },
  {
   "cell_type": "code",
   "execution_count": 33,
   "metadata": {},
   "outputs": [
    {
     "data": {
      "text/plain": [
       "<__main__.Bias at 0x7f84b79d2dd8>"
      ]
     },
     "execution_count": 33,
     "metadata": {},
     "output_type": "execute_result"
    }
   ],
   "source": [
    "ds"
   ]
  },
  {
   "cell_type": "code",
   "execution_count": 35,
   "metadata": {},
   "outputs": [
    {
     "data": {
      "text/html": [
       "<div>\n",
       "<style>\n",
       "    .dataframe thead tr:only-child th {\n",
       "        text-align: right;\n",
       "    }\n",
       "\n",
       "    .dataframe thead th {\n",
       "        text-align: left;\n",
       "    }\n",
       "\n",
       "    .dataframe tbody tr th {\n",
       "        vertical-align: top;\n",
       "    }\n",
       "</style>\n",
       "<table border=\"1\" class=\"dataframe\">\n",
       "  <thead>\n",
       "    <tr style=\"text-align: right;\">\n",
       "      <th></th>\n",
       "      <th>tmin</th>\n",
       "      <th>tmax</th>\n",
       "    </tr>\n",
       "  </thead>\n",
       "  <tbody>\n",
       "    <tr>\n",
       "      <th>count</th>\n",
       "      <td>2193.000000</td>\n",
       "      <td>2193.000000</td>\n",
       "    </tr>\n",
       "    <tr>\n",
       "      <th>mean</th>\n",
       "      <td>12.199734</td>\n",
       "      <td>23.992827</td>\n",
       "    </tr>\n",
       "    <tr>\n",
       "      <th>std</th>\n",
       "      <td>11.771917</td>\n",
       "      <td>10.962656</td>\n",
       "    </tr>\n",
       "    <tr>\n",
       "      <th>min</th>\n",
       "      <td>-18.617080</td>\n",
       "      <td>1.202007</td>\n",
       "    </tr>\n",
       "    <tr>\n",
       "      <th>25%</th>\n",
       "      <td>2.272920</td>\n",
       "      <td>13.789882</td>\n",
       "    </tr>\n",
       "    <tr>\n",
       "      <th>50%</th>\n",
       "      <td>12.341318</td>\n",
       "      <td>23.897565</td>\n",
       "    </tr>\n",
       "    <tr>\n",
       "      <th>75%</th>\n",
       "      <td>22.189517</td>\n",
       "      <td>34.067220</td>\n",
       "    </tr>\n",
       "    <tr>\n",
       "      <th>max</th>\n",
       "      <td>42.139493</td>\n",
       "      <td>46.963557</td>\n",
       "    </tr>\n",
       "  </tbody>\n",
       "</table>\n",
       "</div>"
      ],
      "text/plain": [
       "              tmin         tmax\n",
       "count  2193.000000  2193.000000\n",
       "mean     12.199734    23.992827\n",
       "std      11.771917    10.962656\n",
       "min     -18.617080     1.202007\n",
       "25%       2.272920    13.789882\n",
       "50%      12.341318    23.897565\n",
       "75%      22.189517    34.067220\n",
       "max      42.139493    46.963557"
      ]
     },
     "execution_count": 35,
     "metadata": {},
     "output_type": "execute_result"
    }
   ],
   "source": [
    "ds._model.to_dataframe().describe()"
   ]
  },
  {
   "cell_type": "code",
   "execution_count": null,
   "metadata": {},
   "outputs": [],
   "source": []
  }
 ],
 "metadata": {
  "kernelspec": {
   "display_name": "Python 3",
   "language": "python",
   "name": "python3"
  },
  "language_info": {
   "codemirror_mode": {
    "name": "ipython",
    "version": 3
   },
   "file_extension": ".py",
   "mimetype": "text/x-python",
   "name": "python",
   "nbconvert_exporter": "python",
   "pygments_lexer": "ipython3",
   "version": "3.6.2"
  }
 },
 "nbformat": 4,
 "nbformat_minor": 2
}
